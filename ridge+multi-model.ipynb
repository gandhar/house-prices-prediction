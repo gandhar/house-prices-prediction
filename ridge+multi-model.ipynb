{
 "cells": [
  {
   "cell_type": "code",
   "execution_count": 253,
   "metadata": {},
   "outputs": [],
   "source": [
    "#fix gryblt\n",
    "# extra outlier from test\n",
    "\n",
    "import numpy as np\n",
    "import matplotlib.pyplot as plt\n",
    "import pandas as pd\n",
    "import seaborn as sns\n",
    "from sklearn import metrics\n",
    "\n",
    "sns.set()\n",
    "\n",
    "def log_transform(df,col_name):\n",
    "    df[col_name+'_Log'] = np.log(df[col_name])\n",
    "    \n",
    "    print(\"Skewness_orig: %f\" % df[col_name].skew())\n",
    "    print(\"Kurtosis_orig: %f\" % df[col_name].kurt())\n",
    "    print(\"Skewness_new: %f\" % df[col_name+'_Log'].skew())\n",
    "    print(\"Kurtosis_new: %f\" % df[col_name+'_Log'].kurt())\n",
    "\n",
    "    f, axes = plt.subplots(2, 1)\n",
    "    f.tight_layout()\n",
    "    sns.distplot(df[col_name], ax=axes[0])\n",
    "    sns.distplot(df[col_name+'_Log'], ax=axes[1])\n",
    "    \n",
    "    plt.show()\n",
    "    \n",
    "def add_sqrt_transform(df,col_name,add):\n",
    "    df[col_name+'_sqrt'] = np.sqrt(df[col_name]+add)\n",
    "    \n",
    "    print(\"Skewness_orig: %f\" % df[col_name].skew())\n",
    "    print(\"Kurtosis_orig: %f\" % df[col_name].kurt())\n",
    "    print(\"Skewness_new: %f\" % df[col_name+'_sqrt'].skew())\n",
    "    print(\"Kurtosis_new: %f\" % df[col_name+'_sqrt'].kurt())\n",
    "\n",
    "    f, axes = plt.subplots(2, 1)\n",
    "    f.tight_layout()\n",
    "    sns.distplot(df[col_name], ax=axes[0])\n",
    "    sns.distplot(df[col_name+'_sqrt'], ax=axes[1])\n",
    "    plt.show()\n",
    "    \n",
    "def print_missing_data(df,top=20):\n",
    "    total = df.isnull().sum().sort_values(ascending=False)\n",
    "    percent = (df.isnull().sum()/df.isnull().count()).sort_values(ascending=False)\n",
    "    missing_data = pd.concat([total, percent], axis=1, keys=['Total', 'Percent'])\n",
    "    print(missing_data.head(top))\n",
    "    \n",
    "def get_corr_pairs(df):\n",
    "    corrs = df.corr() >= 0.8\n",
    "    names = list(corrs.index)\n",
    "    corr_pairs={}\n",
    "    for item in sorted(corrs):\n",
    "        relevant=[ names[ind] for ind, row in enumerate(corrs[item]) if row and names[ind] != item ]\n",
    "        if len(relevant)>0:\n",
    "            corr_pairs[item] = relevant\n",
    "    return corr_pairs\n",
    "    \n",
    "def mean_absolute_percentage_error(y_true, y_pred): \n",
    "    y_true, y_pred = np.array(y_true), np.array(y_pred)\n",
    "    return np.mean(np.abs((y_true - y_pred) / y_true)) * 100\n",
    "\n",
    "def prediction_stats(y_test,y_pred):\n",
    "    print('Mean Absolute Error:', metrics.mean_absolute_error(y_test, y_pred))  \n",
    "    print('Mean Squared Error:', metrics.mean_squared_error(y_test, y_pred))  \n",
    "    print('Root Mean Squared Error:', np.sqrt(metrics.mean_squared_error(y_test, y_pred)))\n",
    "    print('Mean Absolute Percentage Error:',mean_absolute_percentage_error(y_test,y_pred))\n"
   ]
  },
  {
   "cell_type": "code",
   "execution_count": 254,
   "metadata": {},
   "outputs": [
    {
     "name": "stdout",
     "output_type": "stream",
     "text": [
      "(1460, 82) (1459, 82) (2919, 82)\n"
     ]
    }
   ],
   "source": [
    "df_train = pd.read_csv(\"/Users/gandharkamat/projects/8010/Final/train.csv\")\n",
    "df_test_data = pd.read_csv(\"/Users/gandharkamat/projects/8010/Final/test.csv\")\n",
    "sals_price=pd.read_csv(\"/Users/gandharkamat/projects/8010/Final/test_actual_price.csv\")\n",
    "\n",
    "df_test = pd.merge(df_test_data, sals_price,  how='inner', on='Id')\n",
    "\n",
    "df_train['source']='train'\n",
    "df_test['source']='test'\n",
    "df = pd.concat([df_train,df_test], ignore_index = True, sort = False)\n",
    "\n",
    "print(df_train.shape, df_test.shape, df.shape)\n"
   ]
  },
  {
   "cell_type": "code",
   "execution_count": 255,
   "metadata": {},
   "outputs": [
    {
     "name": "stdout",
     "output_type": "stream",
     "text": [
      "              Total   Percent\n",
      "PoolQC         2909  0.996574\n",
      "MiscFeature    2814  0.964029\n",
      "Alley          2721  0.932169\n",
      "Fence          2348  0.804385\n",
      "FireplaceQu    1420  0.486468\n",
      "LotFrontage     486  0.166495\n",
      "GarageFinish    159  0.054471\n",
      "GarageYrBlt     159  0.054471\n",
      "GarageQual      159  0.054471\n",
      "GarageCond      159  0.054471\n",
      "GarageType      157  0.053786\n",
      "BsmtCond         82  0.028092\n",
      "BsmtExposure     82  0.028092\n",
      "BsmtQual         81  0.027749\n",
      "BsmtFinType2     80  0.027407\n",
      "BsmtFinType1     79  0.027064\n",
      "MasVnrType       24  0.008222\n",
      "MasVnrArea       23  0.007879\n",
      "MSZoning          4  0.001370\n",
      "BsmtFullBath      2  0.000685\n",
      "              Total  Percent\n",
      "source            0      0.0\n",
      "YearRemodAdd      0      0.0\n",
      "RoofMatl          0      0.0\n",
      "Exterior1st       0      0.0\n",
      "Exterior2nd       0      0.0\n",
      "MasVnrType        0      0.0\n",
      "MasVnrArea        0      0.0\n",
      "ExterQual         0      0.0\n",
      "ExterCond         0      0.0\n",
      "Foundation        0      0.0\n",
      "BsmtQual          0      0.0\n",
      "BsmtCond          0      0.0\n",
      "BsmtExposure      0      0.0\n",
      "BsmtFinType1      0      0.0\n",
      "BsmtFinSF1        0      0.0\n",
      "BsmtFinType2      0      0.0\n",
      "BsmtFinSF2        0      0.0\n",
      "BsmtUnfSF         0      0.0\n",
      "TotalBsmtSF       0      0.0\n",
      "RoofStyle         0      0.0\n"
     ]
    },
    {
     "name": "stderr",
     "output_type": "stream",
     "text": [
      "/Users/gandharkamat/projects/venv/lib/python3.7/site-packages/pandas/core/generic.py:6287: SettingWithCopyWarning: \n",
      "A value is trying to be set on a copy of a slice from a DataFrame\n",
      "\n",
      "See the caveats in the documentation: http://pandas.pydata.org/pandas-docs/stable/user_guide/indexing.html#returning-a-view-versus-a-copy\n",
      "  self._update_inplace(new_data)\n"
     ]
    }
   ],
   "source": [
    "print_missing_data(df)\n",
    "\n",
    "# cat_cols_g = [\"HouseStyle\",\"RoofStyle\",\"RoofMatl\",\"Exterior1st\",\"Exterior2nd\",\"MasVnrType\",\"ExterQual\",\"ExterCond\",\"Foundation\",\"BsmtQual\",\"BsmtCond\"]\n",
    "# num_cols_g = [\"YearBuilt\",\"YearRemodAdd\",\"MasVnrArea\",\"OverallQual\",\"OverallCond\"]\n",
    "\n",
    "# cat_cols_r = [\"MSSubClass\",\"MSZoning\",\"Street\",\"Alley\",\"LotShape\",\"LandContour\",\"Utilities\",\"LotConfig\",\"LandSlope\",\"Neighborhood\",\"Condition1\",\"Condition2\",\"BldgType\"]\n",
    "# num_cols_r = ['LotArea','LotFrontage']\n",
    "\n",
    "# cat_cols_k = ['BsmtExposure', 'BsmtFinType1', 'BsmtFinType2', 'Heating', 'HeatingQC','CentralAir', 'Electrical']\n",
    "# num_cols_k = ['BsmtFinSF1', 'BsmtFinSF2', 'BsmtUnfSF', 'TotalBsmtSF', '1stFlrSF','2ndFlrSF', 'LowQualFinSF', 'GrLivArea', 'BsmtFullBath']\n",
    "\n",
    "# cat_cols_s = [\"GarageFinish\",\"GarageQual\",\"KitchenQual\",\"Functional\",\"FireplaceQu\",\"GarageType\",\"GarageYrBlt\"]\n",
    "# num_cols_s = [\"GarageArea\",\"GarageCars\",\"BsmtHalfBath\",\"FullBath\",\"HalfBath\",\"BedroomAbvGr\",\"KitchenAbvGr\",\"TotRmsAbvGrd\",\"Fireplaces\"]\n",
    "\n",
    "# cat_cols_b = [\"GarageCond\",\"PavedDrive\",\"PoolQC\",\"Fence\",\"MiscFeature\",\"SaleType\",\"SaleCondition\"]\n",
    "# num_cols_b = [\"WoodDeckSF\",\"OpenPorchSF\",\"EnclosedPorch\",\"3SsnPorch\",\"ScreenPorch\",\"PoolArea\",\"MiscVal\",\"MoSold\",\"YrSold\"]\n",
    "\n",
    "num_feats = ['YearBuilt', 'YearRemodAdd', 'MasVnrArea', 'OverallQual', 'OverallCond', 'LotArea', 'LotFrontage', 'GarageArea', 'GarageCars', 'BsmtHalfBath', 'FullBath', 'HalfBath', 'BedroomAbvGr', 'KitchenAbvGr', 'TotRmsAbvGrd', 'Fireplaces', 'BsmtFinSF1', 'BsmtFinSF2', 'BsmtUnfSF', 'TotalBsmtSF', '1stFlrSF', '2ndFlrSF', 'LowQualFinSF', 'GrLivArea', 'BsmtFullBath', 'WoodDeckSF', 'OpenPorchSF', 'EnclosedPorch', '3SsnPorch', 'ScreenPorch', 'PoolArea', 'MiscVal', 'MoSold', 'YrSold', 'SalePrice']\n",
    "cat_feats = ['HouseStyle', 'RoofStyle', 'RoofMatl', 'Exterior1st', 'Exterior2nd', 'MasVnrType', 'ExterQual', 'ExterCond', 'Foundation', 'BsmtQual', 'BsmtCond', 'MSSubClass', 'MSZoning', 'Street', 'Alley', 'LotShape', 'LandContour', 'Utilities', 'LotConfig', 'LandSlope', 'Neighborhood', 'Condition1', 'Condition2', 'BldgType', 'GarageFinish', 'KitchenQual', 'Functional', 'FireplaceQu', 'GarageType', 'GarageYrBlt', 'BsmtExposure', 'BsmtFinType1', 'BsmtFinType2', 'Heating', 'HeatingQC', 'CentralAir', 'Electrical', 'PavedDrive', 'PoolQC', 'Fence', 'MiscFeature', 'SaleType', 'SaleCondition','GarageCond','GarageQual']\n",
    "\n",
    "fillna_cat_cols = [\n",
    "    \"BsmtExposure\",\n",
    "    \"BsmtFinType1\",\n",
    "    \"BsmtFinType2\",\n",
    "    \"BsmtCond\",\n",
    "    \"BsmtQual\",\n",
    "    \"Fence\",\n",
    "    \"FireplaceQu\",\n",
    "    'GarageQual', \n",
    "    'GarageCond',\n",
    "    \"GarageFinish\",\n",
    "    \"GarageType\",\n",
    "    \"MiscFeature\",\n",
    "    \"PoolQC\",\n",
    "    'Alley'\n",
    "]\n",
    "\n",
    "for item in fillna_cat_cols:\n",
    "    df[item].fillna('None',inplace=True)\n",
    "    \n",
    "fill0_num_columns=['GarageArea','GarageCars']\n",
    "\n",
    "for item in fill0_num_columns:\n",
    "    df[df['GarageType']=='None'][item].fillna(0,inplace=True)\n",
    "\n",
    "fillNone_cat_columns=['GarageYrBlt']\n",
    "\n",
    "for item in fillNone_cat_columns:\n",
    "    df[df['GarageType']=='None'][item].fillna('None',inplace=True)\n",
    "    df[df[item]>2010][item].fillna(df[item].mean(),inplace=True)\n",
    "\n",
    "#fill lotfrontage by mean of neighbothood\n",
    "df[\"LotFrontage\"] = df.groupby(\"Neighborhood\")[\"LotFrontage\"].transform(lambda x: x.fillna(x.median()))\n",
    "df['MSZoning'] = df.groupby('MSSubClass')['MSZoning'].transform(lambda x: x.fillna(x.mode()[0]))\n",
    "\n",
    "fillmean_num_cols = [\"MasVnrArea\",'GarageArea','GarageCars','BsmtFinSF1','TotalBsmtSF','BsmtFinSF2','BsmtUnfSF']\n",
    "\n",
    "for item in fillmean_num_cols:\n",
    "    df[item].fillna(df[item].mean(),inplace=True)\n",
    "\n",
    "fill0_num_cols=['BsmtHalfBath','BsmtFullBath']\n",
    "\n",
    "for item in fill0_num_cols:\n",
    "    df[df['BsmtCond']=='None'][item].fillna(0,inplace=True)\n",
    "\n",
    "fillmode_cat_cols = ['Electrical','MasVnrType','Exterior1st','Exterior2nd','KitchenQual','GarageYrBlt','Utilities','SaleType','BsmtHalfBath','BsmtFullBath']\n",
    "\n",
    "for item in fillmode_cat_cols:\n",
    "    df[item].fillna(df[item].mode().iloc[0],inplace=True)\n",
    "\n",
    "#from data dict\n",
    "df[\"Functional\"] = df[\"Functional\"].fillna(\"Typ\")\n",
    "\n",
    "print_missing_data(df)\n"
   ]
  },
  {
   "cell_type": "code",
   "execution_count": 256,
   "metadata": {},
   "outputs": [
    {
     "data": {
      "text/plain": [
       "<matplotlib.axes._subplots.AxesSubplot at 0x123c18b50>"
      ]
     },
     "execution_count": 256,
     "metadata": {},
     "output_type": "execute_result"
    },
    {
     "data": {
      "image/png": "[encoded data removed]",
      "text/plain": [
       "<Figure size 432x288 with 1 Axes>"
      ]
     },
     "metadata": {},
     "output_type": "display_data"
    }
   ],
   "source": [
    "sns.scatterplot(df['LotFrontage'],df['SalePrice'])"
   ]
  },
  {
   "cell_type": "code",
   "execution_count": 257,
   "metadata": {},
   "outputs": [
    {
     "name": "stdout",
     "output_type": "stream",
     "text": [
      "Skewness_orig: 1.750102\n",
      "Kurtosis_orig: 5.180770\n",
      "Skewness_new: -0.014710\n",
      "Kurtosis_new: 1.530083\n"
     ]
    },
    {
     "data": {
      "image/png": "[encoded data removed]",
      "text/plain": [
       "<Figure size 432x288 with 2 Axes>"
      ]
     },
     "metadata": {},
     "output_type": "display_data"
    }
   ],
   "source": [
    "# new feats\n",
    "# df['Remodel'] = df['YearRemodAdd'] - df['YearBuilt']\n",
    "# df['Remodel'] = df['Remodel'].apply(lambda x: 1 if x > 0 else 0 )\n",
    "# cat_feats.append('Remodel')\n",
    "\n",
    "# df['NewH'] = df['YrSold'] - df['YearBuilt']\n",
    "# df['NewH'] = df['NewH'].apply(lambda x: 1 if x == 0 else 0)\n",
    "# cat_feats.append('NewH')\n",
    "\n",
    "# df = df.drop(['Utilities', 'Street', 'PoolQC',], axis=1)\n",
    "# cat_feats = list(set(cat_feats) - set(['Utilities', 'Street', 'PoolQC']))\n",
    "\n",
    "# df['YrBltAndRemod']=df['YearBuilt']+df['YearRemodAdd']\n",
    "# df['TotalSF']=df['TotalBsmtSF'] + df['1stFlrSF'] + df['2ndFlrSF']\n",
    "\n",
    "# df['Total_sqr_footage'] = (df['BsmtFinSF1'] + df['BsmtFinSF2'] +\n",
    "#                                  df['1stFlrSF'] + df['2ndFlrSF'])\n",
    "\n",
    "# df['Total_Bathrooms'] = (df['FullBath'] + (0.5 * df['HalfBath']) +\n",
    "#                                df['BsmtFullBath'] + (0.5 * df['BsmtHalfBath']))\n",
    "\n",
    "# df['Total_porch_sf'] = (df['OpenPorchSF'] + df['3SsnPorch'] +\n",
    "#                               df['EnclosedPorch'] + df['ScreenPorch'] +\n",
    "#                               df['WoodDeckSF'])\n",
    "\n",
    "# df['haspool'] = df['PoolArea'].apply(lambda x: 1 if x > 0 else 0)\n",
    "# df['has2ndfloor'] = df['2ndFlrSF'].apply(lambda x: 1 if x > 0 else 0)\n",
    "# df['hasgarage'] = df['GarageArea'].apply(lambda x: 1 if x > 0 else 0)\n",
    "# df['hasbsmt'] = df['TotalBsmtSF'].apply(lambda x: 1 if x > 0 else 0)\n",
    "# df['hasfireplace'] = df['Fireplaces'].apply(lambda x: 1 if x > 0 else 0)\n",
    "\n",
    "# num_feats.append('YrBltAndRemod')\n",
    "# num_feats.append('TotalSF')\n",
    "# num_feats.append('Total_sqr_footage')\n",
    "# num_feats.append('Total_Bathrooms')\n",
    "# num_feats.append('Total_porch_sf')\n",
    "\n",
    "\n",
    "# cat_feats.append('haspool')\n",
    "# cat_feats.append('has2ndfloor')\n",
    "# cat_feats.append('hasgarage')\n",
    "# cat_feats.append('hasbsmt')\n",
    "# cat_feats.append('hasfireplace')\n",
    "\n",
    "# df['TotalSF'] = df['TotalBsmtSF'] + df['1stFlrSF'] + df['2ndFlrSF']\n",
    "# num_feats.append('TotalSF')\n",
    "\n",
    "# df['HasBsmt'] = df['TotalBsmtSF'].apply(lambda x: 1 if x > 0 else 0 )\n",
    "# df.loc[df['HasBsmt']==1,'TotalBsmtSF'] = np.log(df['TotalBsmtSF'])\n",
    "# cat_feats.append('HasBsmt')\n",
    "\n",
    "#outliers\n",
    "\n",
    "df.drop(df[(df['source'] == 'train') & (df['GrLivArea']>5000)].index,inplace=True)\n",
    "df.drop(df[(df['source'] == 'train') & (df['LotArea']>50000)].index,inplace=True)\n",
    "df.drop(df[(df['source'] == 'train') & (df['LotFrontage']>250)].index,inplace=True)\n",
    "\n",
    "\n",
    "col='SalePrice'\n",
    "log_transform(df,col)\n",
    "num_feats.remove(col)\n",
    "num_feats.append(col+'_Log')\n"
   ]
  },
  {
   "cell_type": "code",
   "execution_count": 258,
   "metadata": {},
   "outputs": [],
   "source": [
    "def plot_corr_matrix(df, nr_c, targ) :\n",
    "    \n",
    "    corr = df.corr()\n",
    "    corr_abs = corr.abs()\n",
    "    cols = corr_abs.nlargest(nr_c, targ)[targ].index\n",
    "    cm = np.corrcoef(df[cols].values.T)\n",
    "\n",
    "    plt.figure(figsize=(nr_c, nr_c))\n",
    "    sns.set(font_scale=1.25)\n",
    "    sns.heatmap(cm, linewidths=1.5, annot=True, square=True, \n",
    "                fmt='.2f', annot_kws={'size': 12}, \n",
    "                yticklabels=cols.values, xticklabels=cols.values\n",
    "               )\n",
    "    plt.show()\n",
    "\n",
    "# plot_corr_matrix(df, len(num_feats), 'SalePrice_Log')\n"
   ]
  },
  {
   "cell_type": "code",
   "execution_count": 259,
   "metadata": {},
   "outputs": [
    {
     "name": "stdout",
     "output_type": "stream",
     "text": [
      "{'1stFlrSF': ['TotalBsmtSF'], 'GarageArea': ['GarageCars'], 'GarageCars': ['GarageArea'], 'GarageYrBlt': ['YearBuilt'], 'GrLivArea': ['TotRmsAbvGrd'], 'TotRmsAbvGrd': ['GrLivArea'], 'TotalBsmtSF': ['1stFlrSF'], 'YearBuilt': ['GarageYrBlt']}\n"
     ]
    }
   ],
   "source": [
    "print(get_corr_pairs(df_train))\n",
    "\n",
    "drops = ['TotRmsAbvGrd','GarageArea','1stFlrSF']\n",
    "\n",
    "drops = ['TotRmsAbvGrd','GarageArea','1stFlrSF','2ndFlrSF','HalfBath','BedroomAbvGr','BsmtFullBath','FullBath','YearRemodAdd','3SsnPorch',\"PoolArea\",\"MoSold\",\"KitchenAbvGr\",\"YrSold\",\"MiscVal\",'LowQualFinSF']\n",
    "drop_cat=['GarageYrBlt','MSSubClass']\n",
    "\n",
    "num_feats = list(set(num_feats) - set(drops))\n",
    "cat_feats = list(set(cat_feats) - set(drop_cat))\n",
    "\n",
    "# sns.scatterplot(df['TotalSF'],df['SalePrice_Log'])"
   ]
  },
  {
   "cell_type": "code",
   "execution_count": 260,
   "metadata": {},
   "outputs": [
    {
     "name": "stdout",
     "output_type": "stream",
     "text": [
      "19\n"
     ]
    },
    {
     "data": {
      "image/png": "[encoded data removed]",
      "text/plain": [
       "<Figure size 432x288 with 3 Axes>"
      ]
     },
     "metadata": {},
     "output_type": "display_data"
    }
   ],
   "source": [
    "# a4_dims = (11.7, 8.27)\n",
    "f, axes = plt.subplots(3, 1)\n",
    "f.tight_layout()\n",
    "print(len(num_feats))\n",
    "\n",
    "# for i in range(3):\n",
    "#     add = 6\n",
    "#     sns.scatterplot(df[num_feats[i+add]],df['SalePrice_Log'],ax=axes[i])\n",
    "\n",
    "for i in range(3):\n",
    "    add = 6\n",
    "    sns.distplot(df[num_feats[i+add]],ax=axes[i])\n",
    " \n",
    "plt.show()\n",
    "\n",
    "\n",
    "# numeric_feats = df.dtypes[df.dtypes != \"object\"].index\n",
    "# skewed_feats = df[numeric_feats].apply(lambda x: pd.DataFrame.skew(x)) #compute skewness\n",
    "# skewed_feats = skewed_feats[skewed_feats > 0.75]\n",
    "# skewed_feats = skewed_feats.index\n",
    "# df[skewed_feats] = np.log1p(df[skewed_feats])\n",
    "\n",
    "# skewed_feats\n"
   ]
  },
  {
   "cell_type": "code",
   "execution_count": 261,
   "metadata": {
    "scrolled": true
   },
   "outputs": [
    {
     "name": "stdout",
     "output_type": "stream",
     "text": [
      "Skewness_orig: 2.749677\n",
      "Kurtosis_orig: 17.197592\n",
      "Skewness_new: -0.937353\n",
      "Kurtosis_new: 2.620334\n"
     ]
    },
    {
     "data": {
      "image/png": "[encoded data removed]",
      "text/plain": [
       "<Figure size 432x288 with 2 Axes>"
      ]
     },
     "metadata": {},
     "output_type": "display_data"
    }
   ],
   "source": [
    "col='LotArea'\n",
    "log_transform(df,col)\n",
    "num_feats.remove(col)\n",
    "num_feats.append(col+'_Log')\n",
    "\n",
    "# dropped col\n",
    "# col='1stFlrSF'\n",
    "# log_transform(df,col)\n",
    "# num_feats.remove(col)\n",
    "# num_feats.append(col+'_Log')"
   ]
  },
  {
   "cell_type": "code",
   "execution_count": 262,
   "metadata": {},
   "outputs": [
    {
     "name": "stdout",
     "output_type": "stream",
     "text": [
      "Skewness_orig: 1.130984\n",
      "Kurtosis_orig: 2.871508\n",
      "Skewness_new: -0.007043\n",
      "Kurtosis_new: 0.139537\n"
     ]
    },
    {
     "data": {
      "image/png": "[encoded data removed]",
      "text/plain": [
       "<Figure size 432x288 with 2 Axes>"
      ]
     },
     "metadata": {},
     "output_type": "display_data"
    }
   ],
   "source": [
    "col='GrLivArea'\n",
    "log_transform(df,col)\n",
    "num_feats.remove(col)\n",
    "num_feats.append(col+'_Log')\n"
   ]
  },
  {
   "cell_type": "code",
   "execution_count": 263,
   "metadata": {},
   "outputs": [
    {
     "data": {
      "text/html": [
       "<div>\n",
       "<style scoped>\n",
       "    .dataframe tbody tr th:only-of-type {\n",
       "        vertical-align: middle;\n",
       "    }\n",
       "\n",
       "    .dataframe tbody tr th {\n",
       "        vertical-align: top;\n",
       "    }\n",
       "\n",
       "    .dataframe thead th {\n",
       "        text-align: right;\n",
       "    }\n",
       "</style>\n",
       "<table border=\"1\" class=\"dataframe\">\n",
       "  <thead>\n",
       "    <tr style=\"text-align: right;\">\n",
       "      <th></th>\n",
       "      <th>WoodDeckSF</th>\n",
       "      <th>Fireplaces</th>\n",
       "      <th>EnclosedPorch</th>\n",
       "      <th>GarageCars</th>\n",
       "      <th>LotArea_Log</th>\n",
       "      <th>YearBuilt</th>\n",
       "      <th>MasVnrArea</th>\n",
       "      <th>BsmtFinSF1</th>\n",
       "      <th>ScreenPorch</th>\n",
       "      <th>OverallCond</th>\n",
       "      <th>BsmtUnfSF</th>\n",
       "      <th>BsmtFinSF2</th>\n",
       "      <th>OpenPorchSF</th>\n",
       "      <th>OverallQual</th>\n",
       "      <th>BsmtHalfBath</th>\n",
       "      <th>LotFrontage</th>\n",
       "      <th>TotalBsmtSF</th>\n",
       "      <th>GrLivArea_Log</th>\n",
       "    </tr>\n",
       "  </thead>\n",
       "  <tbody>\n",
       "    <tr>\n",
       "      <td>0</td>\n",
       "      <td>0.000000</td>\n",
       "      <td>-1.0</td>\n",
       "      <td>0.0</td>\n",
       "      <td>0.0</td>\n",
       "      <td>-0.252717</td>\n",
       "      <td>0.625000</td>\n",
       "      <td>1.202454</td>\n",
       "      <td>0.461749</td>\n",
       "      <td>0.0</td>\n",
       "      <td>0.0</td>\n",
       "      <td>-0.544369</td>\n",
       "      <td>0.0</td>\n",
       "      <td>0.500000</td>\n",
       "      <td>0.5</td>\n",
       "      <td>0.0</td>\n",
       "      <td>-0.25</td>\n",
       "      <td>-0.261386</td>\n",
       "      <td>0.390479</td>\n",
       "    </tr>\n",
       "    <tr>\n",
       "      <td>1</td>\n",
       "      <td>1.773810</td>\n",
       "      <td>0.0</td>\n",
       "      <td>0.0</td>\n",
       "      <td>0.0</td>\n",
       "      <td>0.041149</td>\n",
       "      <td>0.062500</td>\n",
       "      <td>0.000000</td>\n",
       "      <td>0.833333</td>\n",
       "      <td>0.0</td>\n",
       "      <td>3.0</td>\n",
       "      <td>-0.315700</td>\n",
       "      <td>0.0</td>\n",
       "      <td>-0.371429</td>\n",
       "      <td>0.0</td>\n",
       "      <td>1.0</td>\n",
       "      <td>0.50</td>\n",
       "      <td>0.542574</td>\n",
       "      <td>-0.305427</td>\n",
       "    </tr>\n",
       "    <tr>\n",
       "      <td>2</td>\n",
       "      <td>0.000000</td>\n",
       "      <td>0.0</td>\n",
       "      <td>0.0</td>\n",
       "      <td>0.0</td>\n",
       "      <td>0.406430</td>\n",
       "      <td>0.583333</td>\n",
       "      <td>0.993865</td>\n",
       "      <td>0.161202</td>\n",
       "      <td>0.0</td>\n",
       "      <td>0.0</td>\n",
       "      <td>-0.059727</td>\n",
       "      <td>0.0</td>\n",
       "      <td>0.228571</td>\n",
       "      <td>0.5</td>\n",
       "      <td>0.0</td>\n",
       "      <td>-0.10</td>\n",
       "      <td>-0.134653</td>\n",
       "      <td>0.490091</td>\n",
       "    </tr>\n",
       "    <tr>\n",
       "      <td>3</td>\n",
       "      <td>0.000000</td>\n",
       "      <td>0.0</td>\n",
       "      <td>272.0</td>\n",
       "      <td>1.0</td>\n",
       "      <td>0.029123</td>\n",
       "      <td>-1.208333</td>\n",
       "      <td>0.000000</td>\n",
       "      <td>-0.207650</td>\n",
       "      <td>0.0</td>\n",
       "      <td>0.0</td>\n",
       "      <td>0.121160</td>\n",
       "      <td>0.0</td>\n",
       "      <td>0.128571</td>\n",
       "      <td>0.5</td>\n",
       "      <td>0.0</td>\n",
       "      <td>-0.50</td>\n",
       "      <td>-0.459406</td>\n",
       "      <td>0.399837</td>\n",
       "    </tr>\n",
       "    <tr>\n",
       "      <td>4</td>\n",
       "      <td>1.142857</td>\n",
       "      <td>0.0</td>\n",
       "      <td>0.0</td>\n",
       "      <td>1.0</td>\n",
       "      <td>0.952469</td>\n",
       "      <td>0.562500</td>\n",
       "      <td>2.147239</td>\n",
       "      <td>0.392077</td>\n",
       "      <td>0.0</td>\n",
       "      <td>0.0</td>\n",
       "      <td>0.035836</td>\n",
       "      <td>0.0</td>\n",
       "      <td>0.828571</td>\n",
       "      <td>1.0</td>\n",
       "      <td>0.0</td>\n",
       "      <td>0.70</td>\n",
       "      <td>0.310891</td>\n",
       "      <td>0.965571</td>\n",
       "    </tr>\n",
       "    <tr>\n",
       "      <td>...</td>\n",
       "      <td>...</td>\n",
       "      <td>...</td>\n",
       "      <td>...</td>\n",
       "      <td>...</td>\n",
       "      <td>...</td>\n",
       "      <td>...</td>\n",
       "      <td>...</td>\n",
       "      <td>...</td>\n",
       "      <td>...</td>\n",
       "      <td>...</td>\n",
       "      <td>...</td>\n",
       "      <td>...</td>\n",
       "      <td>...</td>\n",
       "      <td>...</td>\n",
       "      <td>...</td>\n",
       "      <td>...</td>\n",
       "      <td>...</td>\n",
       "      <td>...</td>\n",
       "    </tr>\n",
       "    <tr>\n",
       "      <td>2914</td>\n",
       "      <td>0.000000</td>\n",
       "      <td>-1.0</td>\n",
       "      <td>0.0</td>\n",
       "      <td>-2.0</td>\n",
       "      <td>-3.646411</td>\n",
       "      <td>-0.062500</td>\n",
       "      <td>0.000000</td>\n",
       "      <td>-0.502732</td>\n",
       "      <td>0.0</td>\n",
       "      <td>2.0</td>\n",
       "      <td>0.131399</td>\n",
       "      <td>0.0</td>\n",
       "      <td>-0.371429</td>\n",
       "      <td>-1.0</td>\n",
       "      <td>0.0</td>\n",
       "      <td>-2.45</td>\n",
       "      <td>-0.875248</td>\n",
       "      <td>-0.636862</td>\n",
       "    </tr>\n",
       "    <tr>\n",
       "      <td>2915</td>\n",
       "      <td>0.000000</td>\n",
       "      <td>-1.0</td>\n",
       "      <td>0.0</td>\n",
       "      <td>-1.0</td>\n",
       "      <td>-3.696925</td>\n",
       "      <td>-0.062500</td>\n",
       "      <td>0.000000</td>\n",
       "      <td>-0.158470</td>\n",
       "      <td>0.0</td>\n",
       "      <td>0.0</td>\n",
       "      <td>-0.298635</td>\n",
       "      <td>0.0</td>\n",
       "      <td>-0.028571</td>\n",
       "      <td>-1.0</td>\n",
       "      <td>0.0</td>\n",
       "      <td>-2.45</td>\n",
       "      <td>-0.875248</td>\n",
       "      <td>-0.636862</td>\n",
       "    </tr>\n",
       "    <tr>\n",
       "      <td>2916</td>\n",
       "      <td>2.821429</td>\n",
       "      <td>0.0</td>\n",
       "      <td>0.0</td>\n",
       "      <td>0.0</td>\n",
       "      <td>1.731543</td>\n",
       "      <td>-0.270833</td>\n",
       "      <td>0.000000</td>\n",
       "      <td>1.169399</td>\n",
       "      <td>0.0</td>\n",
       "      <td>2.0</td>\n",
       "      <td>-0.800341</td>\n",
       "      <td>0.0</td>\n",
       "      <td>-0.371429</td>\n",
       "      <td>-0.5</td>\n",
       "      <td>0.0</td>\n",
       "      <td>4.50</td>\n",
       "      <td>0.467327</td>\n",
       "      <td>-0.375462</td>\n",
       "    </tr>\n",
       "    <tr>\n",
       "      <td>2917</td>\n",
       "      <td>0.476190</td>\n",
       "      <td>-1.0</td>\n",
       "      <td>0.0</td>\n",
       "      <td>-2.0</td>\n",
       "      <td>0.234556</td>\n",
       "      <td>0.395833</td>\n",
       "      <td>0.000000</td>\n",
       "      <td>-0.042350</td>\n",
       "      <td>0.0</td>\n",
       "      <td>0.0</td>\n",
       "      <td>0.180887</td>\n",
       "      <td>0.0</td>\n",
       "      <td>0.085714</td>\n",
       "      <td>-0.5</td>\n",
       "      <td>1.0</td>\n",
       "      <td>-0.40</td>\n",
       "      <td>-0.150495</td>\n",
       "      <td>-0.908242</td>\n",
       "    </tr>\n",
       "    <tr>\n",
       "      <td>2918</td>\n",
       "      <td>1.130952</td>\n",
       "      <td>0.0</td>\n",
       "      <td>0.0</td>\n",
       "      <td>1.0</td>\n",
       "      <td>0.047618</td>\n",
       "      <td>0.416667</td>\n",
       "      <td>0.576687</td>\n",
       "      <td>0.532787</td>\n",
       "      <td>0.0</td>\n",
       "      <td>0.0</td>\n",
       "      <td>-0.394198</td>\n",
       "      <td>0.0</td>\n",
       "      <td>0.314286</td>\n",
       "      <td>0.5</td>\n",
       "      <td>0.0</td>\n",
       "      <td>0.20</td>\n",
       "      <td>0.015842</td>\n",
       "      <td>0.749327</td>\n",
       "    </tr>\n",
       "  </tbody>\n",
       "</table>\n",
       "<p>2907 rows × 18 columns</p>\n",
       "</div>"
      ],
      "text/plain": [
       "      WoodDeckSF  Fireplaces  EnclosedPorch  GarageCars  LotArea_Log  \\\n",
       "0       0.000000        -1.0            0.0         0.0    -0.252717   \n",
       "1       1.773810         0.0            0.0         0.0     0.041149   \n",
       "2       0.000000         0.0            0.0         0.0     0.406430   \n",
       "3       0.000000         0.0          272.0         1.0     0.029123   \n",
       "4       1.142857         0.0            0.0         1.0     0.952469   \n",
       "...          ...         ...            ...         ...          ...   \n",
       "2914    0.000000        -1.0            0.0        -2.0    -3.646411   \n",
       "2915    0.000000        -1.0            0.0        -1.0    -3.696925   \n",
       "2916    2.821429         0.0            0.0         0.0     1.731543   \n",
       "2917    0.476190        -1.0            0.0        -2.0     0.234556   \n",
       "2918    1.130952         0.0            0.0         1.0     0.047618   \n",
       "\n",
       "      YearBuilt  MasVnrArea  BsmtFinSF1  ScreenPorch  OverallCond  BsmtUnfSF  \\\n",
       "0      0.625000    1.202454    0.461749          0.0          0.0  -0.544369   \n",
       "1      0.062500    0.000000    0.833333          0.0          3.0  -0.315700   \n",
       "2      0.583333    0.993865    0.161202          0.0          0.0  -0.059727   \n",
       "3     -1.208333    0.000000   -0.207650          0.0          0.0   0.121160   \n",
       "4      0.562500    2.147239    0.392077          0.0          0.0   0.035836   \n",
       "...         ...         ...         ...          ...          ...        ...   \n",
       "2914  -0.062500    0.000000   -0.502732          0.0          2.0   0.131399   \n",
       "2915  -0.062500    0.000000   -0.158470          0.0          0.0  -0.298635   \n",
       "2916  -0.270833    0.000000    1.169399          0.0          2.0  -0.800341   \n",
       "2917   0.395833    0.000000   -0.042350          0.0          0.0   0.180887   \n",
       "2918   0.416667    0.576687    0.532787          0.0          0.0  -0.394198   \n",
       "\n",
       "      BsmtFinSF2  OpenPorchSF  OverallQual  BsmtHalfBath  LotFrontage  \\\n",
       "0            0.0     0.500000          0.5           0.0        -0.25   \n",
       "1            0.0    -0.371429          0.0           1.0         0.50   \n",
       "2            0.0     0.228571          0.5           0.0        -0.10   \n",
       "3            0.0     0.128571          0.5           0.0        -0.50   \n",
       "4            0.0     0.828571          1.0           0.0         0.70   \n",
       "...          ...          ...          ...           ...          ...   \n",
       "2914         0.0    -0.371429         -1.0           0.0        -2.45   \n",
       "2915         0.0    -0.028571         -1.0           0.0        -2.45   \n",
       "2916         0.0    -0.371429         -0.5           0.0         4.50   \n",
       "2917         0.0     0.085714         -0.5           1.0        -0.40   \n",
       "2918         0.0     0.314286          0.5           0.0         0.20   \n",
       "\n",
       "      TotalBsmtSF  GrLivArea_Log  \n",
       "0       -0.261386       0.390479  \n",
       "1        0.542574      -0.305427  \n",
       "2       -0.134653       0.490091  \n",
       "3       -0.459406       0.399837  \n",
       "4        0.310891       0.965571  \n",
       "...           ...            ...  \n",
       "2914    -0.875248      -0.636862  \n",
       "2915    -0.875248      -0.636862  \n",
       "2916     0.467327      -0.375462  \n",
       "2917    -0.150495      -0.908242  \n",
       "2918     0.015842       0.749327  \n",
       "\n",
       "[2907 rows x 18 columns]"
      ]
     },
     "execution_count": 263,
     "metadata": {},
     "output_type": "execute_result"
    }
   ],
   "source": [
    "# scale_variables = ['LotFrontage', 'LotArea_Log', 'YearBuilt', 'MasVnrArea', 'BsmtFinSF1', 'BsmtFinSF2', 'BsmtUnfSF', 'TotalBsmtSF', '1stFlrSF', '2ndFlrSF', 'LowQualFinSF', 'GrLivArea_Log', 'GarageYrBlt', 'GarageArea', 'PoolArea']\n",
    "from sklearn.preprocessing import StandardScaler \n",
    "scaler = RobustScaler()\n",
    "df_scaled = pd.DataFrame(scaler.fit_transform(df[list(set(num_feats) - set(['SalePrice_Log']))]), index=df[list(set(num_feats) - set(['SalePrice_Log']))].index, columns=df[list(set(num_feats) - set(['SalePrice_Log']))].columns)\n",
    "df_scaled"
   ]
  },
  {
   "cell_type": "code",
   "execution_count": 264,
   "metadata": {
    "scrolled": false
   },
   "outputs": [
    {
     "name": "stdout",
     "output_type": "stream",
     "text": [
      "(1448, 283) (1448,) (1459, 283) (1459,)\n",
      "                     Total  Percent\n",
      "GarageCond_TA            0      0.0\n",
      "Exterior1st_Stone        0      0.0\n",
      "Exterior1st_CBlock       0      0.0\n",
      "Exterior1st_CemntBd      0      0.0\n",
      "Exterior1st_HdBoard      0      0.0\n",
      "Exterior1st_ImStucc      0      0.0\n",
      "Exterior1st_MetalSd      0      0.0\n",
      "Exterior1st_Plywood      0      0.0\n",
      "Exterior1st_Stucco       0      0.0\n",
      "Exterior1st_BrkComm      0      0.0\n",
      "Exterior1st_VinylSd      0      0.0\n",
      "Exterior1st_Wd Sdng      0      0.0\n",
      "Exterior1st_WdShing      0      0.0\n",
      "BsmtQual_Ex              0      0.0\n",
      "BsmtQual_Fa              0      0.0\n",
      "BsmtQual_Gd              0      0.0\n",
      "Exterior1st_BrkFace      0      0.0\n",
      "Exterior1st_AsphShn      0      0.0\n",
      "SaleType_ConLD           0      0.0\n",
      "Alley_Pave               0      0.0\n"
     ]
    },
    {
     "name": "stderr",
     "output_type": "stream",
     "text": [
      "/Users/gandharkamat/projects/venv/lib/python3.7/site-packages/pandas/core/frame.py:4102: SettingWithCopyWarning: \n",
      "A value is trying to be set on a copy of a slice from a DataFrame\n",
      "\n",
      "See the caveats in the documentation: http://pandas.pydata.org/pandas-docs/stable/user_guide/indexing.html#returning-a-view-versus-a-copy\n",
      "  errors=errors,\n"
     ]
    }
   ],
   "source": [
    "#dummies \n",
    "df_dummies = pd.concat([df.loc[:,'source'],df_scaled,pd.get_dummies(df.loc[:,cat_feats]),df.loc[:,'SalePrice_Log']],axis=1)\n",
    "\n",
    "#prep for models \n",
    "train = df_dummies.loc[df_dummies['source']==\"train\"]\n",
    "test = df_dummies.loc[df_dummies['source']==\"test\"]\n",
    "\n",
    "train.drop(['source'],axis=1,inplace=True)\n",
    "test.drop(['source'],axis=1,inplace=True)\n",
    "\n",
    "target = 'SalePrice_Log'\n",
    "X = train.drop(target,axis=1)\n",
    "y = train[target]\n",
    "\n",
    "X_test = test.drop(target,axis=1)\n",
    "y_test = test[target]\n",
    "print(X.shape,y.shape,X_test.shape,y_test.shape)\n",
    "output_all = pd.DataFrame()\n",
    "output_all['actual'] = np.exp(y_test)\n",
    "print_missing_data(X)"
   ]
  },
  {
   "cell_type": "code",
   "execution_count": 265,
   "metadata": {},
   "outputs": [
    {
     "name": "stdout",
     "output_type": "stream",
     "text": [
      "Fitting 5 folds for each of 28 candidates, totalling 140 fits\n"
     ]
    },
    {
     "name": "stderr",
     "output_type": "stream",
     "text": [
      "[Parallel(n_jobs=-1)]: Using backend LokyBackend with 8 concurrent workers.\n",
      "[Parallel(n_jobs=-1)]: Done  25 tasks      | elapsed:    3.2s\n"
     ]
    },
    {
     "name": "stdout",
     "output_type": "stream",
     "text": [
      "{'alpha': 0.0008, 'fit_intercept': True, 'normalize': False}\n",
      "-0.013786968804661045\n",
      "Mean Absolute Error: 13864.21596019736\n",
      "Mean Squared Error: 884521538.0642194\n",
      "Root Mean Squared Error: 29740.906813078505\n",
      "Mean Absolute Percentage Error: 8.445370512694739\n"
     ]
    },
    {
     "name": "stderr",
     "output_type": "stream",
     "text": [
      "[Parallel(n_jobs=-1)]: Done 140 out of 140 | elapsed:    7.5s finished\n"
     ]
    }
   ],
   "source": [
    "from sklearn.utils.testing import ignore_warnings\n",
    "from sklearn.exceptions import ConvergenceWarning\n",
    "from sklearn.linear_model import LinearRegression\n",
    "from sklearn.linear_model import Lasso\n",
    "from sklearn.model_selection import GridSearchCV\n",
    "\n",
    "# @ignore_warnings(category=ConvergenceWarning)\n",
    "\n",
    "\n",
    "lasso = Lasso() # 1\n",
    "parameters = {'alpha': [1e-4,2e-4,4e-4,8e-4,1e-3,1e-2,1],\n",
    "             'fit_intercept':[True,False],\n",
    "             'normalize': [True,False]}\n",
    "\n",
    "lasso_regressor = GridSearchCV(lasso, parameters, scoring = 'neg_mean_squared_error', cv=5,n_jobs=-1,verbose=2)\n",
    "lasso_regressor.fit(X,y) # 2\n",
    "\n",
    "print(lasso_regressor.best_params_)\n",
    "print(lasso_regressor.best_score_)\n",
    "\n",
    "y_pred = lasso_regressor.predict(X_test) # 3\n",
    "\n",
    "prediction_stats(np.exp(y_test),np.exp(y_pred)) # 4 \n",
    "output_all['lasso'] = np.exp(y_pred)\n"
   ]
  },
  {
   "cell_type": "code",
   "execution_count": 221,
   "metadata": {},
   "outputs": [
    {
     "name": "stdout",
     "output_type": "stream",
     "text": [
      "Fitting 5 folds for each of 2000 candidates, totalling 10000 fits\n"
     ]
    },
    {
     "name": "stderr",
     "output_type": "stream",
     "text": [
      "[Parallel(n_jobs=-1)]: Using backend LokyBackend with 8 concurrent workers.\n",
      "[Parallel(n_jobs=-1)]: Done  25 tasks      | elapsed:    2.0s\n",
      "[Parallel(n_jobs=-1)]: Done 672 tasks      | elapsed:    4.9s\n",
      "[Parallel(n_jobs=-1)]: Done 2296 tasks      | elapsed:   12.1s\n",
      "[Parallel(n_jobs=-1)]: Done 4560 tasks      | elapsed:   23.1s\n",
      "[Parallel(n_jobs=-1)]: Done 7480 tasks      | elapsed:   37.6s\n"
     ]
    },
    {
     "name": "stdout",
     "output_type": "stream",
     "text": [
      "{'alpha': 13.33, 'fit_intercept': True, 'normalize': False}\n",
      "-0.014192599359216778\n",
      "Mean Absolute Error: 13578.271764857009\n",
      "Mean Squared Error: 837320725.0372308\n",
      "Root Mean Squared Error: 28936.494691604075\n",
      "Mean Absolute Percentage Error: 8.273411641259596\n"
     ]
    },
    {
     "name": "stderr",
     "output_type": "stream",
     "text": [
      "[Parallel(n_jobs=-1)]: Done 10000 out of 10000 | elapsed:   50.4s finished\n"
     ]
    }
   ],
   "source": [
    "from sklearn.linear_model import Ridge\n",
    "# def ridge_thing():\n",
    "ridge = Ridge()\n",
    "parameters = {'alpha': [ 11 + 0.01*i for i in range(500)],\n",
    "             'fit_intercept':[True,False],\n",
    "             'normalize': [True,False]\n",
    "             }\n",
    "\n",
    "ridge_regressor = GridSearchCV(ridge, parameters, scoring = 'neg_mean_squared_error', cv=5,n_jobs=-1,verbose=2)\n",
    "ridge_regressor.fit(X,y)\n",
    "\n",
    "print(ridge_regressor.best_params_)\n",
    "print(ridge_regressor.best_score_)\n",
    "\n",
    "y_pred = ridge_regressor.predict(X_test)\n",
    "\n",
    "prediction_stats(np.exp(y_test),np.exp(y_pred))\n",
    "output_all['ridge'] = np.exp(y_pred)\n",
    "\n",
    "# ridge_thing()\n"
   ]
  },
  {
   "cell_type": "code",
   "execution_count": 214,
   "metadata": {},
   "outputs": [
    {
     "data": {
      "text/plain": [
       "0.12615739434740636"
      ]
     },
     "execution_count": 214,
     "metadata": {},
     "output_type": "execute_result"
    }
   ],
   "source": [
    "np.sqrt(metrics.mean_squared_log_error( output_all['actual'],output_all['ridge']))"
   ]
  },
  {
   "cell_type": "code",
   "execution_count": 215,
   "metadata": {
    "scrolled": true
   },
   "outputs": [
    {
     "name": "stdout",
     "output_type": "stream",
     "text": [
      "Fitting 5 folds for each of 128 candidates, totalling 640 fits\n"
     ]
    },
    {
     "name": "stderr",
     "output_type": "stream",
     "text": [
      "[Parallel(n_jobs=-1)]: Using backend LokyBackend with 8 concurrent workers.\n",
      "[Parallel(n_jobs=-1)]: Done  25 tasks      | elapsed:    1.9s\n",
      "[Parallel(n_jobs=-1)]: Done 602 tasks      | elapsed:    4.1s\n"
     ]
    },
    {
     "name": "stdout",
     "output_type": "stream",
     "text": [
      "DecisionTreeRegressor(criterion='mse', max_depth=8, max_features=100,\n",
      "                      max_leaf_nodes=None, min_impurity_decrease=0.0,\n",
      "                      min_impurity_split=None, min_samples_leaf=1,\n",
      "                      min_samples_split=10, min_weight_fraction_leaf=0.0,\n",
      "                      presort=False, random_state=None, splitter='best')\n",
      "Mean Absolute Error: 23478.50812484827\n",
      "Mean Squared Error: 1475691270.5603936\n",
      "Root Mean Squared Error: 38414.72726130427\n",
      "Mean Absolute Percentage Error: 13.996641101409232\n"
     ]
    },
    {
     "name": "stderr",
     "output_type": "stream",
     "text": [
      "[Parallel(n_jobs=-1)]: Done 640 out of 640 | elapsed:    4.4s finished\n",
      "/Users/gandharkamat/projects/venv/lib/python3.7/site-packages/sklearn/model_selection/_search.py:814: DeprecationWarning: The default of the `iid` parameter will change from True to False in version 0.22 and will be removed in 0.24. This will change numeric results when test-set sizes are unequal.\n",
      "  DeprecationWarning)\n"
     ]
    }
   ],
   "source": [
    "from sklearn.tree import DecisionTreeRegressor\n",
    "\n",
    "param_grid = {\"max_depth\": range(2,10,2),\n",
    "              'min_samples_split': [2,5,8,10],\n",
    "            \"max_features\": [1, 3, 10, 50, 100, 'sqrt', 'auto','log2']}\n",
    "\n",
    "regressor_dtree = DecisionTreeRegressor()\n",
    "dtree=GridSearchCV(regressor_dtree,param_grid,cv=5,n_jobs=-1,verbose=2)\n",
    "dtree.fit(X,y)\n",
    "print(dtree.best_estimator_)\n",
    "\n",
    "y_pred = dtree.predict(X_test)\n",
    "\n",
    "prediction_stats(np.exp(y_test),np.exp(y_pred))\n",
    "output_all['dtree'] = np.exp(y_pred)"
   ]
  },
  {
   "cell_type": "code",
   "execution_count": 216,
   "metadata": {},
   "outputs": [
    {
     "name": "stdout",
     "output_type": "stream",
     "text": [
      "Fitting 3 folds for each of 3 candidates, totalling 9 fits\n"
     ]
    },
    {
     "name": "stderr",
     "output_type": "stream",
     "text": [
      "[Parallel(n_jobs=-1)]: Using backend LokyBackend with 8 concurrent workers.\n",
      "[Parallel(n_jobs=-1)]: Done   4 out of   9 | elapsed:   51.2s remaining:  1.1min\n",
      "[Parallel(n_jobs=-1)]: Done   9 out of   9 | elapsed:  1.3min remaining:    0.0s\n",
      "[Parallel(n_jobs=-1)]: Done   9 out of   9 | elapsed:  1.3min finished\n"
     ]
    },
    {
     "name": "stdout",
     "output_type": "stream",
     "text": [
      "RandomForestRegressor(bootstrap=True, criterion='mse', max_depth=17,\n",
      "                      max_features='auto', max_leaf_nodes=None,\n",
      "                      min_impurity_decrease=0.0, min_impurity_split=None,\n",
      "                      min_samples_leaf=1, min_samples_split=2,\n",
      "                      min_weight_fraction_leaf=0.0, n_estimators=1500,\n",
      "                      n_jobs=None, oob_score=False, random_state=None,\n",
      "                      verbose=0, warm_start=False)\n",
      "Mean Absolute Error: 15888.328611771527\n",
      "Mean Squared Error: 599710638.0102543\n",
      "Root Mean Squared Error: 24488.990138636877\n",
      "Mean Absolute Percentage Error: 9.670682344626428\n"
     ]
    }
   ],
   "source": [
    "from sklearn.ensemble import RandomForestRegressor\n",
    "\n",
    "rfp = RandomForestRegressor()\n",
    "\n",
    "param_grid = {\"max_depth\": [17,19,21],\n",
    "              \"n_estimators\": [1500],\n",
    "            \"max_features\": ['auto'],\n",
    "             \"bootstrap\": [True]}\n",
    "\n",
    "rf = GridSearchCV(rfp, param_grid=param_grid,cv=3,n_jobs=-1,verbose=2)\n",
    "rf.fit(X, y)\n",
    "print(rf.best_estimator_)\n",
    "\n",
    "y_pred = rf.predict(X_test)\n",
    "output_all['rf'] = np.exp(y_pred)\n",
    "\n",
    "prediction_stats(np.exp(y_test),np.exp(y_pred))\n"
   ]
  },
  {
   "cell_type": "code",
   "execution_count": 217,
   "metadata": {},
   "outputs": [
    {
     "name": "stdout",
     "output_type": "stream",
     "text": [
      "Fitting 5 folds for each of 8 candidates, totalling 40 fits\n"
     ]
    },
    {
     "name": "stderr",
     "output_type": "stream",
     "text": [
      "[Parallel(n_jobs=-1)]: Using backend LokyBackend with 8 concurrent workers.\n",
      "[Parallel(n_jobs=-1)]: Done  25 tasks      | elapsed:   49.1s\n",
      "[Parallel(n_jobs=-1)]: Done  40 out of  40 | elapsed:  1.1min finished\n",
      "/Users/gandharkamat/projects/venv/lib/python3.7/site-packages/xgboost/core.py:587: FutureWarning: Series.base is deprecated and will be removed in a future version\n",
      "  if getattr(data, 'base', None) is not None and \\\n",
      "/Users/gandharkamat/projects/venv/lib/python3.7/site-packages/xgboost/core.py:588: FutureWarning: Series.base is deprecated and will be removed in a future version\n",
      "  data.base is not None and isinstance(data, np.ndarray) \\\n"
     ]
    },
    {
     "name": "stdout",
     "output_type": "stream",
     "text": [
      "XGBRegressor(base_score=0.5, booster='gbtree', colsample_bylevel=1,\n",
      "             colsample_bynode=1, colsample_bytree=1, gamma=0,\n",
      "             importance_type='gain', learning_rate=0.1, max_delta_step=0,\n",
      "             max_depth=4, min_child_weight=1, missing=None, n_estimators=410,\n",
      "             n_jobs=1, nthread=None, objective='reg:squarederror',\n",
      "             random_state=0, reg_alpha=0, reg_lambda=1, scale_pos_weight=1,\n",
      "             seed=None, silent=None, subsample=1, verbosity=1)\n",
      "Mean Absolute Error: 13767.975197052776\n",
      "Mean Squared Error: 426232644.59327376\n",
      "Root Mean Squared Error: 20645.402504995483\n",
      "Mean Absolute Percentage Error: 8.491514315029345\n"
     ]
    }
   ],
   "source": [
    "import xgboost as xgb\n",
    "\n",
    "param_grid = {\n",
    "    \"max_depth\": range(3,5,1),\n",
    "    \"n_estimators\": range(400,420,5),\n",
    "    'objective':['reg:squarederror']\n",
    "    }\n",
    "\n",
    "model_xgb = xgb.XGBRegressor()\n",
    "\n",
    "xgbr=GridSearchCV(model_xgb,param_grid,cv=5,n_jobs=-1,verbose=2)\n",
    "xgbr.fit(X,y)\n",
    "print(xgbr.best_estimator_)\n",
    "\n",
    "y_pred = xgbr.predict(X_test)\n",
    "\n",
    "# model_xgb = xgb.XGBRegressor(n_estimators=360, max_depth=2, learning_rate=0.1)\n",
    "# model_xgb.fit(X, y)\n",
    "\n",
    "# y_pred = model_xgb.predict(X_test)\n",
    "\n",
    "prediction_stats(np.exp(y_test),np.exp(y_pred))\n",
    "output_all['xgb'] = np.exp(y_pred)\n"
   ]
  },
  {
   "cell_type": "code",
   "execution_count": 218,
   "metadata": {},
   "outputs": [
    {
     "data": {
      "text/html": [
       "<div>\n",
       "<style scoped>\n",
       "    .dataframe tbody tr th:only-of-type {\n",
       "        vertical-align: middle;\n",
       "    }\n",
       "\n",
       "    .dataframe tbody tr th {\n",
       "        vertical-align: top;\n",
       "    }\n",
       "\n",
       "    .dataframe thead th {\n",
       "        text-align: right;\n",
       "    }\n",
       "</style>\n",
       "<table border=\"1\" class=\"dataframe\">\n",
       "  <thead>\n",
       "    <tr style=\"text-align: right;\">\n",
       "      <th></th>\n",
       "      <th>actual</th>\n",
       "      <th>lasso</th>\n",
       "      <th>ridge</th>\n",
       "      <th>dtree</th>\n",
       "      <th>rf</th>\n",
       "      <th>xgb</th>\n",
       "    </tr>\n",
       "  </thead>\n",
       "  <tbody>\n",
       "    <tr>\n",
       "      <td>1460</td>\n",
       "      <td>105000.0</td>\n",
       "      <td>115820.439639</td>\n",
       "      <td>116926.622730</td>\n",
       "      <td>142031.648162</td>\n",
       "      <td>127642.733843</td>\n",
       "      <td>133692.421875</td>\n",
       "    </tr>\n",
       "    <tr>\n",
       "      <td>1461</td>\n",
       "      <td>172000.0</td>\n",
       "      <td>159491.783256</td>\n",
       "      <td>159605.416254</td>\n",
       "      <td>144892.054284</td>\n",
       "      <td>163963.382725</td>\n",
       "      <td>164849.437500</td>\n",
       "    </tr>\n",
       "    <tr>\n",
       "      <td>1462</td>\n",
       "      <td>189900.0</td>\n",
       "      <td>182220.505248</td>\n",
       "      <td>182784.810365</td>\n",
       "      <td>173535.649223</td>\n",
       "      <td>175575.299014</td>\n",
       "      <td>189835.921875</td>\n",
       "    </tr>\n",
       "    <tr>\n",
       "      <td>1463</td>\n",
       "      <td>195500.0</td>\n",
       "      <td>205470.202404</td>\n",
       "      <td>202815.689463</td>\n",
       "      <td>183703.942573</td>\n",
       "      <td>186617.258305</td>\n",
       "      <td>195052.593750</td>\n",
       "    </tr>\n",
       "    <tr>\n",
       "      <td>1464</td>\n",
       "      <td>191500.0</td>\n",
       "      <td>193467.335569</td>\n",
       "      <td>194673.847879</td>\n",
       "      <td>193766.775108</td>\n",
       "      <td>192296.855450</td>\n",
       "      <td>183791.843750</td>\n",
       "    </tr>\n",
       "    <tr>\n",
       "      <td>...</td>\n",
       "      <td>...</td>\n",
       "      <td>...</td>\n",
       "      <td>...</td>\n",
       "      <td>...</td>\n",
       "      <td>...</td>\n",
       "      <td>...</td>\n",
       "    </tr>\n",
       "    <tr>\n",
       "      <td>2914</td>\n",
       "      <td>90500.0</td>\n",
       "      <td>91915.292767</td>\n",
       "      <td>88489.045819</td>\n",
       "      <td>94870.685183</td>\n",
       "      <td>86581.668572</td>\n",
       "      <td>81609.343750</td>\n",
       "    </tr>\n",
       "    <tr>\n",
       "      <td>2915</td>\n",
       "      <td>71000.0</td>\n",
       "      <td>85503.436753</td>\n",
       "      <td>81150.699766</td>\n",
       "      <td>119907.554279</td>\n",
       "      <td>91156.309484</td>\n",
       "      <td>80434.500000</td>\n",
       "    </tr>\n",
       "    <tr>\n",
       "      <td>2916</td>\n",
       "      <td>131000.0</td>\n",
       "      <td>171196.661868</td>\n",
       "      <td>171838.960731</td>\n",
       "      <td>142031.648162</td>\n",
       "      <td>164449.366004</td>\n",
       "      <td>175646.734375</td>\n",
       "    </tr>\n",
       "    <tr>\n",
       "      <td>2917</td>\n",
       "      <td>132000.0</td>\n",
       "      <td>120370.725901</td>\n",
       "      <td>117323.174470</td>\n",
       "      <td>94870.685183</td>\n",
       "      <td>111187.968055</td>\n",
       "      <td>115740.320312</td>\n",
       "    </tr>\n",
       "    <tr>\n",
       "      <td>2918</td>\n",
       "      <td>188000.0</td>\n",
       "      <td>227352.844958</td>\n",
       "      <td>218923.594825</td>\n",
       "      <td>337500.000000</td>\n",
       "      <td>218785.736576</td>\n",
       "      <td>218428.765625</td>\n",
       "    </tr>\n",
       "  </tbody>\n",
       "</table>\n",
       "<p>1459 rows × 6 columns</p>\n",
       "</div>"
      ],
      "text/plain": [
       "        actual          lasso          ridge          dtree             rf  \\\n",
       "1460  105000.0  115820.439639  116926.622730  142031.648162  127642.733843   \n",
       "1461  172000.0  159491.783256  159605.416254  144892.054284  163963.382725   \n",
       "1462  189900.0  182220.505248  182784.810365  173535.649223  175575.299014   \n",
       "1463  195500.0  205470.202404  202815.689463  183703.942573  186617.258305   \n",
       "1464  191500.0  193467.335569  194673.847879  193766.775108  192296.855450   \n",
       "...        ...            ...            ...            ...            ...   \n",
       "2914   90500.0   91915.292767   88489.045819   94870.685183   86581.668572   \n",
       "2915   71000.0   85503.436753   81150.699766  119907.554279   91156.309484   \n",
       "2916  131000.0  171196.661868  171838.960731  142031.648162  164449.366004   \n",
       "2917  132000.0  120370.725901  117323.174470   94870.685183  111187.968055   \n",
       "2918  188000.0  227352.844958  218923.594825  337500.000000  218785.736576   \n",
       "\n",
       "                xgb  \n",
       "1460  133692.421875  \n",
       "1461  164849.437500  \n",
       "1462  189835.921875  \n",
       "1463  195052.593750  \n",
       "1464  183791.843750  \n",
       "...             ...  \n",
       "2914   81609.343750  \n",
       "2915   80434.500000  \n",
       "2916  175646.734375  \n",
       "2917  115740.320312  \n",
       "2918  218428.765625  \n",
       "\n",
       "[1459 rows x 6 columns]"
      ]
     },
     "execution_count": 218,
     "metadata": {},
     "output_type": "execute_result"
    }
   ],
   "source": [
    "# graph multiple models \n",
    "output_all\n",
    "# [ 10 + 0.01*i for i in range(500)]\n",
    "# sns.scatterplot(output_all['actual'],output_all['ridge'])"
   ]
  },
  {
   "cell_type": "code",
   "execution_count": 223,
   "metadata": {},
   "outputs": [
    {
     "name": "stdout",
     "output_type": "stream",
     "text": [
      "Fitting 5 folds for each of 28 candidates, totalling 140 fits\n"
     ]
    },
    {
     "name": "stderr",
     "output_type": "stream",
     "text": [
      "[Parallel(n_jobs=-1)]: Using backend LokyBackend with 8 concurrent workers.\n",
      "[Parallel(n_jobs=-1)]: Done  25 tasks      | elapsed:    2.8s\n",
      "[Parallel(n_jobs=-1)]: Done 140 out of 140 | elapsed:    6.6s finished\n"
     ]
    },
    {
     "name": "stdout",
     "output_type": "stream",
     "text": [
      "Fitting 5 folds for each of 2000 candidates, totalling 10000 fits\n"
     ]
    },
    {
     "name": "stderr",
     "output_type": "stream",
     "text": [
      "[Parallel(n_jobs=-1)]: Using backend LokyBackend with 8 concurrent workers.\n",
      "[Parallel(n_jobs=-1)]: Done  25 tasks      | elapsed:    2.3s\n",
      "[Parallel(n_jobs=-1)]: Done 672 tasks      | elapsed:    5.6s\n",
      "[Parallel(n_jobs=-1)]: Done 2296 tasks      | elapsed:   13.6s\n",
      "[Parallel(n_jobs=-1)]: Done 4560 tasks      | elapsed:   24.8s\n",
      "[Parallel(n_jobs=-1)]: Done 7480 tasks      | elapsed:   39.6s\n",
      "[Parallel(n_jobs=-1)]: Done 10000 out of 10000 | elapsed:   52.2s finished\n"
     ]
    },
    {
     "name": "stdout",
     "output_type": "stream",
     "text": [
      "Fitting 3 folds for each of 3 candidates, totalling 9 fits\n"
     ]
    },
    {
     "name": "stderr",
     "output_type": "stream",
     "text": [
      "[Parallel(n_jobs=-1)]: Using backend LokyBackend with 8 concurrent workers.\n",
      "[Parallel(n_jobs=-1)]: Done   4 out of   9 | elapsed:   50.8s remaining:  1.1min\n",
      "[Parallel(n_jobs=-1)]: Done   9 out of   9 | elapsed:  1.3min remaining:    0.0s\n",
      "[Parallel(n_jobs=-1)]: Done   9 out of   9 | elapsed:  1.3min finished\n"
     ]
    },
    {
     "name": "stdout",
     "output_type": "stream",
     "text": [
      "Fitting 5 folds for each of 8 candidates, totalling 40 fits\n"
     ]
    },
    {
     "name": "stderr",
     "output_type": "stream",
     "text": [
      "[Parallel(n_jobs=-1)]: Using backend LokyBackend with 8 concurrent workers.\n",
      "[Parallel(n_jobs=-1)]: Done  25 tasks      | elapsed:   49.7s\n",
      "[Parallel(n_jobs=-1)]: Done  40 out of  40 | elapsed:  1.1min finished\n",
      "/Users/gandharkamat/projects/venv/lib/python3.7/site-packages/xgboost/core.py:587: FutureWarning: Series.base is deprecated and will be removed in a future version\n",
      "  if getattr(data, 'base', None) is not None and \\\n",
      "/Users/gandharkamat/projects/venv/lib/python3.7/site-packages/xgboost/core.py:588: FutureWarning: Series.base is deprecated and will be removed in a future version\n",
      "  data.base is not None and isinstance(data, np.ndarray) \\\n"
     ]
    },
    {
     "name": "stdout",
     "output_type": "stream",
     "text": [
      "Mean Absolute Error: 12789.693297395317\n",
      "Mean Squared Error: 452270414.0244207\n",
      "Root Mean Squared Error: 21266.65027747484\n",
      "Mean Absolute Percentage Error: 7.8655595322575405\n"
     ]
    }
   ],
   "source": [
    "from sklearn.ensemble import VotingRegressor\n",
    "\n",
    "ereg = VotingRegressor([('lasso', lasso_regressor), ('ridge', ridge_regressor), ('dtree',dtree)('rf', rf),('xgb',xgbr)])\n",
    "ereg.fit(X, y)\n",
    "\n",
    "y_pred = ereg.predict(X_test)\n",
    "\n",
    "output_all['voting'] = np.exp(y_pred)\n",
    "prediction_stats(np.exp(y_test),np.exp(y_pred))\n"
   ]
  },
  {
   "cell_type": "code",
   "execution_count": 25,
   "metadata": {},
   "outputs": [
    {
     "name": "stdout",
     "output_type": "stream",
     "text": [
      "[ 0.42120571  0.47927629 -0.06313803  0.1994802   0.00827332] -5179.50594529853\n",
      "1460    105000.0\n",
      "1461    172000.0\n",
      "1462    189900.0\n",
      "1463    195500.0\n",
      "1464    191500.0\n",
      "          ...   \n",
      "2914     90500.0\n",
      "2915     71000.0\n",
      "2916    131000.0\n",
      "2917    132000.0\n",
      "2918    188000.0\n",
      "Name: actual, Length: 1458, dtype: float64 1460    116926.626113\n",
      "1461    157683.023582\n",
      "1462    183623.824389\n",
      "1463    203561.769289\n",
      "1464    196559.981048\n",
      "            ...      \n",
      "2914     88962.524059\n",
      "2915     83224.043960\n",
      "2916    173123.814329\n",
      "2917    117443.506358\n",
      "2918    229729.576662\n",
      "Name: lr, Length: 1458, dtype: float64\n",
      "Mean Absolute Error: 12827.879518035787\n",
      "Mean Squared Error: 334062860.6085543\n",
      "Root Mean Squared Error: 18277.38659131973\n",
      "Mean Absolute Percentage Error: 7.897707931016916\n",
      "Mean Absolute Error: 12836.516216122656\n",
      "Mean Squared Error: 354403110.60014814\n",
      "Root Mean Squared Error: 18825.59721762229\n",
      "Mean Absolute Percentage Error: 7.851828251942868\n"
     ]
    }
   ],
   "source": [
    "#linear reg to find linear combination of individual\n",
    "\n",
    "from sklearn import linear_model\n",
    "\n",
    "X_final = output_all.drop(['actual','lr','guess'],axis=1) # here we have 2 variables for multiple regression. If you just want to use one variable for simple linear regression, then use X = df['Interest_Rate'] for example.Alternatively, you may add additional variables within the brackets\n",
    "Y_final = output_all['actual']\n",
    "\n",
    "regr = linear_model.LinearRegression()\n",
    "regr.fit(X_final, Y_final)\n",
    "\n",
    "print(regr.coef_,regr.intercept_)\n",
    "\n",
    "# lasso \tridge \txgb \tdtree \trf\n",
    "\n",
    "output_all['lr'] = regr.intercept_ +  \\\n",
    "    regr.coef_[0]*output_all['lasso']+ \\\n",
    "    regr.coef_[1]*output_all['ridge']+ \\\n",
    "    regr.coef_[2]*output_all['dtree']+ \\\n",
    "    regr.coef_[3]*output_all['rf'] +\\\n",
    "    regr.coef_[4]*output_all['xgb']\n",
    "\n",
    "output_all['lr']\n",
    "\n",
    "print(output_all['actual'],output_all['lr'])\n",
    "prediction_stats(output_all['actual'],output_all['lr'])\n",
    "\n",
    "output_all['guess'] = 0.45*output_all['lasso']+ 0.45*output_all['ridge'] +.1*output_all['xgb']\n",
    "prediction_stats(output_all['actual'],output_all['guess'])\n"
   ]
  },
  {
   "cell_type": "code",
   "execution_count": 26,
   "metadata": {},
   "outputs": [
    {
     "data": {
      "text/plain": [
       "0.11736757227293014"
      ]
     },
     "execution_count": 26,
     "metadata": {},
     "output_type": "execute_result"
    }
   ],
   "source": [
    "np.sqrt(metrics.mean_squared_log_error( output_all['actual'],output_all['guess']))"
   ]
  },
  {
   "cell_type": "code",
   "execution_count": null,
   "metadata": {},
   "outputs": [],
   "source": [
    "np.log(18381.063738313493)"
   ]
  }
 ],
 "metadata": {
  "kernelspec": {
   "display_name": "Python 3",
   "language": "python",
   "name": "python3"
  },
  "language_info": {
   "codemirror_mode": {
    "name": "ipython",
    "version": 3
   },
   "file_extension": ".py",
   "mimetype": "text/x-python",
   "name": "python",
   "nbconvert_exporter": "python",
   "pygments_lexer": "ipython3",
   "version": "3.7.4"
  }
 },
 "nbformat": 4,
 "nbformat_minor": 2
}
